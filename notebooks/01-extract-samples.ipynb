{
 "cells": [
  {
   "cell_type": "code",
   "execution_count": 1,
   "metadata": {},
   "outputs": [],
   "source": [
    "%load_ext autoreload\n",
    "%autoreload 2"
   ]
  },
  {
   "cell_type": "code",
   "execution_count": 7,
   "metadata": {},
   "outputs": [],
   "source": [
    "import pandas as pd\n",
    "from omegaconf import OmegaConf\n",
    "\n",
    "from typing import Tuple\n",
    "\n",
    "from imblearn.over_sampling import RandomOverSampler\n",
    "\n",
    "from boozie.get_data import load_wine, add_fake_features"
   ]
  },
  {
   "cell_type": "code",
   "execution_count": 3,
   "metadata": {},
   "outputs": [],
   "source": [
    "cfg = OmegaConf.load(\"../boozie/conf/config.yaml\")"
   ]
  },
  {
   "cell_type": "code",
   "execution_count": 4,
   "metadata": {},
   "outputs": [],
   "source": [
    "df = load_wine()"
   ]
  },
  {
   "cell_type": "code",
   "execution_count": 5,
   "metadata": {},
   "outputs": [
    {
     "data": {
      "text/html": [
       "<div>\n",
       "<style scoped>\n",
       "    .dataframe tbody tr th:only-of-type {\n",
       "        vertical-align: middle;\n",
       "    }\n",
       "\n",
       "    .dataframe tbody tr th {\n",
       "        vertical-align: top;\n",
       "    }\n",
       "\n",
       "    .dataframe thead th {\n",
       "        text-align: right;\n",
       "    }\n",
       "</style>\n",
       "<table border=\"1\" class=\"dataframe\">\n",
       "  <thead>\n",
       "    <tr style=\"text-align: right;\">\n",
       "      <th></th>\n",
       "      <th>fixed acidity</th>\n",
       "      <th>volatile acidity</th>\n",
       "      <th>citric acid</th>\n",
       "      <th>residual sugar</th>\n",
       "      <th>chlorides</th>\n",
       "      <th>free sulfur dioxide</th>\n",
       "      <th>total sulfur dioxide</th>\n",
       "      <th>density</th>\n",
       "      <th>pH</th>\n",
       "      <th>sulphates</th>\n",
       "      <th>alcohol</th>\n",
       "      <th>stars</th>\n",
       "    </tr>\n",
       "  </thead>\n",
       "  <tbody>\n",
       "    <tr>\n",
       "      <th>0</th>\n",
       "      <td>7.4</td>\n",
       "      <td>0.70</td>\n",
       "      <td>0.00</td>\n",
       "      <td>1.9</td>\n",
       "      <td>0.076</td>\n",
       "      <td>11.0</td>\n",
       "      <td>34.0</td>\n",
       "      <td>0.9978</td>\n",
       "      <td>3.51</td>\n",
       "      <td>0.56</td>\n",
       "      <td>9.4</td>\n",
       "      <td>2.0</td>\n",
       "    </tr>\n",
       "    <tr>\n",
       "      <th>1</th>\n",
       "      <td>7.8</td>\n",
       "      <td>0.88</td>\n",
       "      <td>0.00</td>\n",
       "      <td>2.6</td>\n",
       "      <td>0.098</td>\n",
       "      <td>25.0</td>\n",
       "      <td>67.0</td>\n",
       "      <td>0.9968</td>\n",
       "      <td>3.20</td>\n",
       "      <td>0.68</td>\n",
       "      <td>9.8</td>\n",
       "      <td>2.0</td>\n",
       "    </tr>\n",
       "    <tr>\n",
       "      <th>2</th>\n",
       "      <td>7.8</td>\n",
       "      <td>0.76</td>\n",
       "      <td>0.04</td>\n",
       "      <td>2.3</td>\n",
       "      <td>0.092</td>\n",
       "      <td>15.0</td>\n",
       "      <td>54.0</td>\n",
       "      <td>0.9970</td>\n",
       "      <td>3.26</td>\n",
       "      <td>0.65</td>\n",
       "      <td>9.8</td>\n",
       "      <td>2.0</td>\n",
       "    </tr>\n",
       "    <tr>\n",
       "      <th>3</th>\n",
       "      <td>11.2</td>\n",
       "      <td>0.28</td>\n",
       "      <td>0.56</td>\n",
       "      <td>1.9</td>\n",
       "      <td>0.075</td>\n",
       "      <td>17.0</td>\n",
       "      <td>60.0</td>\n",
       "      <td>0.9980</td>\n",
       "      <td>3.16</td>\n",
       "      <td>0.58</td>\n",
       "      <td>9.8</td>\n",
       "      <td>3.0</td>\n",
       "    </tr>\n",
       "    <tr>\n",
       "      <th>4</th>\n",
       "      <td>7.4</td>\n",
       "      <td>0.70</td>\n",
       "      <td>0.00</td>\n",
       "      <td>1.9</td>\n",
       "      <td>0.076</td>\n",
       "      <td>11.0</td>\n",
       "      <td>34.0</td>\n",
       "      <td>0.9978</td>\n",
       "      <td>3.51</td>\n",
       "      <td>0.56</td>\n",
       "      <td>9.4</td>\n",
       "      <td>2.0</td>\n",
       "    </tr>\n",
       "  </tbody>\n",
       "</table>\n",
       "</div>"
      ],
      "text/plain": [
       "   fixed acidity  volatile acidity  citric acid  residual sugar  chlorides  \\\n",
       "0            7.4              0.70         0.00             1.9      0.076   \n",
       "1            7.8              0.88         0.00             2.6      0.098   \n",
       "2            7.8              0.76         0.04             2.3      0.092   \n",
       "3           11.2              0.28         0.56             1.9      0.075   \n",
       "4            7.4              0.70         0.00             1.9      0.076   \n",
       "\n",
       "   free sulfur dioxide  total sulfur dioxide  density    pH  sulphates  \\\n",
       "0                 11.0                  34.0   0.9978  3.51       0.56   \n",
       "1                 25.0                  67.0   0.9968  3.20       0.68   \n",
       "2                 15.0                  54.0   0.9970  3.26       0.65   \n",
       "3                 17.0                  60.0   0.9980  3.16       0.58   \n",
       "4                 11.0                  34.0   0.9978  3.51       0.56   \n",
       "\n",
       "   alcohol  stars  \n",
       "0      9.4    2.0  \n",
       "1      9.8    2.0  \n",
       "2      9.8    2.0  \n",
       "3      9.8    3.0  \n",
       "4      9.4    2.0  "
      ]
     },
     "execution_count": 5,
     "metadata": {},
     "output_type": "execute_result"
    }
   ],
   "source": [
    "df.head()"
   ]
  },
  {
   "cell_type": "code",
   "execution_count": 8,
   "metadata": {},
   "outputs": [],
   "source": [
    "df = add_fake_features(df)"
   ]
  },
  {
   "cell_type": "code",
   "execution_count": 9,
   "metadata": {},
   "outputs": [
    {
     "name": "stdout",
     "output_type": "stream",
     "text": [
      "- fixed acidity\n",
      "- volatile acidity\n",
      "- citric acid\n",
      "- residual sugar\n",
      "- chlorides\n",
      "- free sulfur dioxide\n",
      "- total sulfur dioxide\n",
      "- density\n",
      "- pH\n",
      "- sulphates\n",
      "- alcohol\n",
      "- stars\n",
      "- price\n",
      "- kcal\n",
      "- tannin level\n",
      "- aging potential\n",
      "- production volume\n",
      "- sediment volume\n",
      "- opacity\n",
      "- magnesium oxide\n",
      "- total potassium\n",
      "- ph\n"
     ]
    }
   ],
   "source": [
    "for col in df.columns:\n",
    "    print(\"-\", col)"
   ]
  },
  {
   "cell_type": "code",
   "execution_count": 15,
   "metadata": {},
   "outputs": [
    {
     "data": {
      "text/plain": [
       "stars\n",
       "2.0    2836\n",
       "3.0    2836\n",
       "4.0    2836\n",
       "1.0    2836\n",
       "5.0    2836\n",
       "Name: count, dtype: int64"
      ]
     },
     "execution_count": 15,
     "metadata": {},
     "output_type": "execute_result"
    }
   ],
   "source": [
    "ros = RandomOverSampler(random_state=42)\n",
    "X = df.copy()\n",
    "y = X.pop(\"stars\")\n",
    "df_os = pd.concat(ros.fit_resample(X, y), axis=1)\n",
    "\n",
    "df_os[\"stars\"].value_counts()"
   ]
  },
  {
   "cell_type": "code",
   "execution_count": 16,
   "metadata": {},
   "outputs": [],
   "source": [
    "def extract_samples(\n",
    "    df: pd.DataFrame,*, score_name: str, samples: dict, random_state: int = 42\n",
    ") -> Tuple[pd.DataFrame, pd.DataFrame]:\n",
    "    \n",
    "    df = df.copy()\n",
    "    samples_df = pd.DataFrame()\n",
    "\n",
    "    for name, score in samples.items():\n",
    "        subset = df[df[score_name] == score]\n",
    "\n",
    "        record = (subset.sample(random_state=random_state)\n",
    "                        .assign(name=name))\n",
    "        df = df.drop(record.index)\n",
    "        samples_df = pd.concat([samples_df, record])\n",
    "\n",
    "    return samples_df, df"
   ]
  },
  {
   "cell_type": "code",
   "execution_count": 17,
   "metadata": {},
   "outputs": [],
   "source": [
    "samples_df, tdf = extract_samples(df, score_name=\"stars\", samples=cfg.samples)"
   ]
  },
  {
   "cell_type": "code",
   "execution_count": 18,
   "metadata": {},
   "outputs": [
    {
     "data": {
      "text/html": [
       "<div>\n",
       "<style scoped>\n",
       "    .dataframe tbody tr th:only-of-type {\n",
       "        vertical-align: middle;\n",
       "    }\n",
       "\n",
       "    .dataframe tbody tr th {\n",
       "        vertical-align: top;\n",
       "    }\n",
       "\n",
       "    .dataframe thead th {\n",
       "        text-align: right;\n",
       "    }\n",
       "</style>\n",
       "<table border=\"1\" class=\"dataframe\">\n",
       "  <thead>\n",
       "    <tr style=\"text-align: right;\">\n",
       "      <th></th>\n",
       "      <th>fixed acidity</th>\n",
       "      <th>volatile acidity</th>\n",
       "      <th>citric acid</th>\n",
       "      <th>residual sugar</th>\n",
       "      <th>chlorides</th>\n",
       "      <th>free sulfur dioxide</th>\n",
       "      <th>total sulfur dioxide</th>\n",
       "      <th>density</th>\n",
       "      <th>pH</th>\n",
       "      <th>sulphates</th>\n",
       "      <th>alcohol</th>\n",
       "      <th>stars</th>\n",
       "      <th>name</th>\n",
       "    </tr>\n",
       "  </thead>\n",
       "  <tbody>\n",
       "    <tr>\n",
       "      <th>11759</th>\n",
       "      <td>5.5</td>\n",
       "      <td>0.490</td>\n",
       "      <td>0.03</td>\n",
       "      <td>1.8</td>\n",
       "      <td>0.044</td>\n",
       "      <td>28.0</td>\n",
       "      <td>87.0</td>\n",
       "      <td>0.9908</td>\n",
       "      <td>3.50</td>\n",
       "      <td>0.82</td>\n",
       "      <td>14.0</td>\n",
       "      <td>5.0</td>\n",
       "      <td>Schmidt</td>\n",
       "    </tr>\n",
       "    <tr>\n",
       "      <th>2775</th>\n",
       "      <td>6.3</td>\n",
       "      <td>0.320</td>\n",
       "      <td>0.35</td>\n",
       "      <td>11.1</td>\n",
       "      <td>0.039</td>\n",
       "      <td>29.0</td>\n",
       "      <td>198.0</td>\n",
       "      <td>0.9984</td>\n",
       "      <td>3.36</td>\n",
       "      <td>0.50</td>\n",
       "      <td>9.4</td>\n",
       "      <td>4.0</td>\n",
       "      <td>Penfolds</td>\n",
       "    </tr>\n",
       "    <tr>\n",
       "      <th>1114</th>\n",
       "      <td>5.0</td>\n",
       "      <td>0.400</td>\n",
       "      <td>0.50</td>\n",
       "      <td>4.3</td>\n",
       "      <td>0.046</td>\n",
       "      <td>29.0</td>\n",
       "      <td>80.0</td>\n",
       "      <td>0.9902</td>\n",
       "      <td>3.49</td>\n",
       "      <td>0.66</td>\n",
       "      <td>13.6</td>\n",
       "      <td>3.0</td>\n",
       "      <td>Antinori</td>\n",
       "    </tr>\n",
       "    <tr>\n",
       "      <th>843</th>\n",
       "      <td>7.1</td>\n",
       "      <td>0.685</td>\n",
       "      <td>0.35</td>\n",
       "      <td>2.0</td>\n",
       "      <td>0.088</td>\n",
       "      <td>9.0</td>\n",
       "      <td>92.0</td>\n",
       "      <td>0.9963</td>\n",
       "      <td>3.28</td>\n",
       "      <td>0.62</td>\n",
       "      <td>9.4</td>\n",
       "      <td>2.0</td>\n",
       "      <td>Vega Sicilia</td>\n",
       "    </tr>\n",
       "    <tr>\n",
       "      <th>6666</th>\n",
       "      <td>7.6</td>\n",
       "      <td>0.210</td>\n",
       "      <td>0.35</td>\n",
       "      <td>1.2</td>\n",
       "      <td>0.041</td>\n",
       "      <td>7.0</td>\n",
       "      <td>106.0</td>\n",
       "      <td>0.9914</td>\n",
       "      <td>3.06</td>\n",
       "      <td>0.45</td>\n",
       "      <td>11.3</td>\n",
       "      <td>1.0</td>\n",
       "      <td>S-Budget</td>\n",
       "    </tr>\n",
       "  </tbody>\n",
       "</table>\n",
       "</div>"
      ],
      "text/plain": [
       "       fixed acidity  volatile acidity  citric acid  residual sugar  \\\n",
       "11759            5.5             0.490         0.03             1.8   \n",
       "2775             6.3             0.320         0.35            11.1   \n",
       "1114             5.0             0.400         0.50             4.3   \n",
       "843              7.1             0.685         0.35             2.0   \n",
       "6666             7.6             0.210         0.35             1.2   \n",
       "\n",
       "       chlorides  free sulfur dioxide  total sulfur dioxide  density    pH  \\\n",
       "11759      0.044                 28.0                  87.0   0.9908  3.50   \n",
       "2775       0.039                 29.0                 198.0   0.9984  3.36   \n",
       "1114       0.046                 29.0                  80.0   0.9902  3.49   \n",
       "843        0.088                  9.0                  92.0   0.9963  3.28   \n",
       "6666       0.041                  7.0                 106.0   0.9914  3.06   \n",
       "\n",
       "       sulphates  alcohol  stars          name  \n",
       "11759       0.82     14.0    5.0       Schmidt  \n",
       "2775        0.50      9.4    4.0      Penfolds  \n",
       "1114        0.66     13.6    3.0      Antinori  \n",
       "843         0.62      9.4    2.0  Vega Sicilia  \n",
       "6666        0.45     11.3    1.0      S-Budget  "
      ]
     },
     "execution_count": 18,
     "metadata": {},
     "output_type": "execute_result"
    }
   ],
   "source": [
    "samples_df"
   ]
  },
  {
   "cell_type": "code",
   "execution_count": 19,
   "metadata": {},
   "outputs": [
    {
     "data": {
      "text/plain": [
       "fixed acidity             7.3000\n",
       "volatile acidity          0.6550\n",
       "citric acid               0.2000\n",
       "residual sugar           10.2000\n",
       "chlorides                 0.0710\n",
       "free sulfur dioxide      28.0000\n",
       "total sulfur dioxide    212.0000\n",
       "density                   0.9971\n",
       "pH                        2.9600\n",
       "sulphates                 0.5800\n",
       "alcohol                   9.2000\n",
       "stars                     3.0000\n",
       "Name: 2420, dtype: float64"
      ]
     },
     "execution_count": 19,
     "metadata": {},
     "output_type": "execute_result"
    }
   ],
   "source": [
    "tdf.loc[2420, :]"
   ]
  },
  {
   "cell_type": "code",
   "execution_count": 23,
   "metadata": {},
   "outputs": [
    {
     "name": "stdout",
     "output_type": "stream",
     "text": [
      "- fixed acidity\n",
      "- volatile acidity\n",
      "- citric acid\n",
      "- residual sugar\n",
      "- chlorides\n",
      "- free sulfur dioxide\n",
      "- total sulfur dioxide\n",
      "- density\n",
      "- pH\n",
      "- sulphates\n",
      "- alcohol\n",
      "- stars\n"
     ]
    }
   ],
   "source": [
    "for col in tdf.columns:\n",
    "    print(\"-\", col)"
   ]
  },
  {
   "cell_type": "code",
   "execution_count": null,
   "metadata": {},
   "outputs": [],
   "source": []
  }
 ],
 "metadata": {
  "kernelspec": {
   "display_name": "boozie-aOv4vTrC-py3.10",
   "language": "python",
   "name": "python3"
  },
  "language_info": {
   "codemirror_mode": {
    "name": "ipython",
    "version": 3
   },
   "file_extension": ".py",
   "mimetype": "text/x-python",
   "name": "python",
   "nbconvert_exporter": "python",
   "pygments_lexer": "ipython3",
   "version": "3.10.10"
  }
 },
 "nbformat": 4,
 "nbformat_minor": 2
}
